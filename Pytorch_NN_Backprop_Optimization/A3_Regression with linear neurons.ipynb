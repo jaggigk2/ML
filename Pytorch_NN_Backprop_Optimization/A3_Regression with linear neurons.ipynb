{
  "nbformat": 4,
  "nbformat_minor": 0,
  "metadata": {
    "colab": {
      "name": "Untitled1.ipynb",
      "provenance": [],
      "collapsed_sections": []
    },
    "kernelspec": {
      "name": "python3",
      "display_name": "Python 3"
    },
    "language_info": {
      "name": "python"
    }
  },
  "cells": [
    {
      "cell_type": "markdown",
      "source": [
        "# **Answer 3:** Regression with linear neurons"
      ],
      "metadata": {
        "id": "w0KxmdXQyd1w"
      }
    },
    {
      "cell_type": "code",
      "source": [
        "%matplotlib inline\n",
        "from __future__ import print_function\n",
        "from itertools import count\n",
        "\n",
        "import torch\n",
        "import torch.nn as nn\n",
        "import torch.autograd\n",
        "import torch.nn.functional as F\n",
        "import torch.optim as optim\n",
        "from torchvision import datasets, transforms\n",
        "from torch.autograd import Variable\n",
        "from timeit import default_timer as timer\n",
        "import pandas as pd\n",
        "import numpy as np\n",
        "\n",
        "import matplotlib.pyplot as plt\n",
        "\n",
        "POLY_DEGREE = 4\n",
        "W_target = torch.randn(POLY_DEGREE, 1) * 5\n",
        "b_target = torch.randn(1) * 5\n",
        "\n",
        "print(W_target)\n",
        "print(b_target)\n",
        "\n",
        "data = pd.read_csv(\"./qn2_data.csv\", delimiter = ',', names = ['fertilizers', 'insecticides', 'production'])\n",
        "train_x = data.drop('production', axis=1).to_numpy()\n",
        "train_y = data['production'].to_numpy()\n",
        "train_y = train_y.reshape((train_y.shape[0],1))\n",
        "\n",
        "train_x = torch.from_numpy(train_x).float()\n",
        "train_y = torch.from_numpy(train_y).float()"
      ],
      "metadata": {
        "colab": {
          "base_uri": "https://localhost:8080/"
        },
        "id": "IqCpxlyrylZB",
        "outputId": "3bae61da-bc38-46f7-c099-a30ad454b6ed"
      },
      "execution_count": 29,
      "outputs": [
        {
          "output_type": "stream",
          "name": "stdout",
          "text": [
            "tensor([[ -7.7073],\n",
            "        [  4.2833],\n",
            "        [ -2.1518],\n",
            "        [-10.2760]])\n",
            "tensor([3.2382])\n"
          ]
        }
      ]
    },
    {
      "cell_type": "code",
      "source": [
        "def make_features(x):\n",
        "    x = x.unsqueeze(1)\n",
        "    return torch.cat([x**i for i in range(1, POLY_DEGREE+1)], 1)"
      ],
      "metadata": {
        "id": "v3PoQns-BFeh"
      },
      "execution_count": 30,
      "outputs": []
    },
    {
      "cell_type": "code",
      "source": [
        "def f(x):\n",
        "    return x.mm(W_target) + b_target[0]"
      ],
      "metadata": {
        "id": "KC2fENjEBQqQ"
      },
      "execution_count": 31,
      "outputs": []
    },
    {
      "cell_type": "code",
      "source": [
        "def poly_desc(W, b):\n",
        "    result = 'y = '\n",
        "    for i ,w in enumerate(W):\n",
        "        result += '{:+.2f} x^{} '.format(w, len(W) - 1)\n",
        "    result += '{:+.2f}'.format(b[0])\n",
        "    return result"
      ],
      "metadata": {
        "id": "yVf8Lf2iBQ0Q"
      },
      "execution_count": 32,
      "outputs": []
    },
    {
      "cell_type": "code",
      "source": [
        "def get_batch(batch_size = 32):\n",
        "    random = torch.randn(batch_size)\n",
        "    x = make_features(random)\n",
        "    y = f(x)\n",
        "    return Variable(x), Variable(y)"
      ],
      "metadata": {
        "id": "GNiJX0rkBQ6j"
      },
      "execution_count": 33,
      "outputs": []
    },
    {
      "cell_type": "code",
      "source": [
        "def random_dataset():\n",
        "    #print(W_target.size(0))\n",
        "    fc = torch.nn.Linear(W_target.size(0), 1)\n",
        "    lr_rate = [0.01,0.025,0.05,0.1,0.2]\n",
        "    batch_idx_arr = []\n",
        "    for learning_rate in lr_rate:\n",
        "        optimizer= torch.optim.SGD(fc.parameters(), lr = learning_rate)\n",
        "\n",
        "        for batch_idx in count(1):\n",
        "            batch_x, batch_y = get_batch()\n",
        "            optimizer.zero_grad()\n",
        "\n",
        "        #     Forward\n",
        "            output = F.smooth_l1_loss(fc(batch_x), batch_y)\n",
        "            loss = output.data\n",
        "\n",
        "        #     Backward\n",
        "            output.backward()\n",
        "\n",
        "            optimizer.step()\n",
        "\n",
        "        #     Stop Criterion\n",
        "            if(loss < 1e-3):\n",
        "                break\n",
        "        print('Learning Rate-> {:+.3f}'.format(learning_rate))\n",
        "        print('Loss: {:+.6f} after {} batches'.format(loss, batch_idx))\n",
        "        batch_idx_arr.append(batch_idx)\n",
        "\n",
        "    return lr_rate,batch_idx_arr\n",
        "\n",
        "        "
      ],
      "metadata": {
        "id": "ylTNdI8FBgE3"
      },
      "execution_count": 133,
      "outputs": []
    },
    {
      "cell_type": "markdown",
      "source": [
        "# Part a) for SGD - Modifing the learning rate and observing its effect"
      ],
      "metadata": {
        "id": "SSFECb3ucteF"
      }
    },
    {
      "cell_type": "code",
      "source": [
        "lr_rate,batch_idx_arr = random_dataset()\n",
        "\n",
        "fig2 = plt.figure()\n",
        "plt.plot(lr_rate,batch_idx_arr, 'go', linestyle='-')\n",
        "fig2.suptitle('learning rate vs #batches', fontsize=20)\n",
        "plt.xlabel('learning rate', fontsize=12)\n",
        "plt.ylabel('#batches', fontsize=12)\n",
        "\n",
        "plt.show()\n"
      ],
      "metadata": {
        "id": "D0YotDj2ZuHB"
      },
      "execution_count": null,
      "outputs": []
    },
    {
      "cell_type": "markdown",
      "source": [
        "Learning Rate-> +0.010,       Loss: +0.000956 after 3241 batches\n",
        "\n",
        "Learning Rate-> +0.025,       Loss: +0.000835 after 1 batches\n",
        "\n",
        "Learning Rate-> +0.050,       Loss: +0.000241 after 48 batches\n",
        "\n",
        "Learning Rate-> +0.100,       Loss: +0.000483 after 1 batches\n",
        "\n",
        "Learning Rate-> +0.200,       Loss: +0.000167 after 1 batches\n",
        "\n",
        "![A3_plot.png](data:image/png;base64,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)"
      ],
      "metadata": {
        "id": "-T-Ua47WwQwU"
      }
    },
    {
      "cell_type": "code",
      "source": [
        "def toy_dataset():\n",
        "    fc = torch.nn.Linear(train_x.size(1), 1)\n",
        "    \n",
        "    learning_rate = 0.001\n",
        "    \n",
        "    optimizer= torch.optim.SGD(fc.parameters(), lr = learning_rate, momentum = 0.9, nesterov = True)\n",
        "\n",
        "    for epoch in count(1):\n",
        "        #     Get data\n",
        "        batch_x, batch_y = Variable(train_x), Variable(train_y)\n",
        "        #     Reset Gradients\n",
        "        optimizer.zero_grad()\n",
        "\n",
        "        #     Forward pass\n",
        "        output = F.smooth_l1_loss(fc(batch_x), batch_y)\n",
        "        loss = output.data\n",
        "\n",
        "        #     Backward Pass\n",
        "        output.backward()\n",
        "\n",
        "        optimizer.step()\n",
        "\n",
        "        #     Stop Criterion\n",
        "        if(loss < 0.59):\n",
        "            break\n",
        "    print('Learning Rate-> {:+.3f}'.format(learning_rate))\n",
        "    print('Loss: {:+.6f} after {} batches'.format(loss, epoch))\n",
        "\n",
        "    return learning_rate, epoch, fc.weight.data.view(-1), fc.bias.data"
      ],
      "metadata": {
        "id": "utuUoeddBpe1"
      },
      "execution_count": 94,
      "outputs": []
    },
    {
      "cell_type": "markdown",
      "source": [
        "# Part b) SGD with toy dataset"
      ],
      "metadata": {
        "id": "0ogoxmaViCTx"
      }
    },
    {
      "cell_type": "code",
      "source": [
        "lr, epoch, weight, bias = toy_dataset()\n",
        "\n",
        "test = torch.Tensor([[6,4],[10,5],[14,8]])\n",
        "ans = test.mm(weight.view(-1,1)) + bias\n",
        "\n",
        "print (\"\\nWeights = \" , weight)\n",
        "print (\"bias = \" , bias)"
      ],
      "metadata": {
        "id": "7HV1sSPuBroE"
      },
      "execution_count": null,
      "outputs": []
    },
    {
      "cell_type": "markdown",
      "source": [
        "Learing rate -> 0.001, Nesterov = True, momentum = 0.9\n",
        "Loss -> +0.589992 after 20599 batches\n",
        "\n",
        "Weights = [0.7674, 0.9943]\n",
        "\n",
        "bias = [31.3090]\n",
        "\n",
        "Answer for test data ([[6,4],[10,5],[14,8]]) = [39.8905, 43.9544, 50.0068] = **[40, 44, 50]**"
      ],
      "metadata": {
        "id": "nXpQzrCtyuUJ"
      }
    },
    {
      "cell_type": "code",
      "source": [
        "def least_square():\n",
        "    bias = np.ones((train_x.shape[0],train_x.shape[1]+1))\n",
        "\n",
        "    bias[:, 1:] = train_x\n",
        "    X = torch.from_numpy(bias).float()\n",
        "    y = train_y\n",
        "\n",
        "    \n",
        "    theta = torch.mm(torch.mm((torch.inverse(torch.mm(torch.t(X),X))), torch.t(X)), y)\n",
        "    \n",
        "    weight_closed = theta[1:3, :]\n",
        "    bias_closed = theta[0, :]\n",
        "\n",
        "    ans = test.mm(weight_closed) + bias_closed\n",
        "\n",
        "    return weight_closed, bias_closed, ans\n"
      ],
      "metadata": {
        "id": "oUJUjJaZG80u"
      },
      "execution_count": 139,
      "outputs": []
    },
    {
      "cell_type": "markdown",
      "source": [
        "# Part c) least squares solution"
      ],
      "metadata": {
        "id": "-ZD49zfo0ekT"
      }
    },
    {
      "cell_type": "code",
      "source": [
        "weights_ls, bias_ls, prediction = least_square()\n",
        "\n",
        "print (\"\\nWeights = \" , weights_ls)\n",
        "print (\"bias = \" , bias_ls)\n",
        "print (\"Prediction = \" , prediction)"
      ],
      "metadata": {
        "colab": {
          "base_uri": "https://localhost:8080/"
        },
        "id": "kxrJdaBkHad6",
        "outputId": "f8dfeb78-1499-4466-b765-29cce0b9c353"
      },
      "execution_count": 142,
      "outputs": [
        {
          "output_type": "stream",
          "name": "stdout",
          "text": [
            "\n",
            "Weights =  tensor([[0.6501],\n",
            "        [1.1099]])\n",
            "bias =  tensor([31.9806])\n",
            "Prediction =  tensor([[40.3205],\n",
            "        [44.0306],\n",
            "        [49.9605]])\n"
          ]
        }
      ]
    },
    {
      "cell_type": "markdown",
      "source": [
        "Weights = [0.6500, 1.1099]\n",
        "\n",
        "bias = [31.9806]\n",
        "\n",
        "Answer = [ 40.3203, 44.0302, 49.9599] = **[40, 44, 50]**"
      ],
      "metadata": {
        "id": "hcG3mGtE0Kgp"
      }
    }
  ]
}