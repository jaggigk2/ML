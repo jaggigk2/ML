{
  "nbformat": 4,
  "nbformat_minor": 0,
  "metadata": {
    "colab": {
      "name": "colour_regression.ipynb",
      "provenance": [],
      "collapsed_sections": [],
      "toc_visible": true
    },
    "kernelspec": {
      "name": "python3",
      "display_name": "Python 3"
    },
    "accelerator": "GPU",
    "language_info": {
      "name": "python"
    }
  },
  "cells": [
    {
      "metadata": {
        "id": "TjPTaRB4mpCd"
      },
      "cell_type": "markdown",
      "source": [
        "# Colab FAQ\n",
        "\n",
        "For some basic overview and features offered in Colab notebooks, check out: [Overview of Colaboratory Features](https://colab.research.google.com/notebooks/basic_features_overview.ipynb)\n",
        "\n",
        "You need to use the colab GPU for this assignmentby selecting:\n",
        "\n",
        "> **Runtime**   →   **Change runtime type**   →   **Hardware Accelerator: GPU**"
      ]
    },
    {
      "metadata": {
        "id": "s9IS9B9-yUU5"
      },
      "cell_type": "markdown",
      "source": [
        "# Download CIFAR and Colour dictionary\n",
        "It can take up to a couple of minutes to download everything the first time.\n"
      ]
    },
    {
      "metadata": {
        "id": "4BIpGwANoQOg"
      },
      "cell_type": "markdown",
      "source": [
        "## Helper code\n",
        "You can ignore the restart warning."
      ]
    },
    {
      "metadata": {
        "id": "m2a8KhmWSh-p",
        "colab": {
          "base_uri": "https://localhost:8080/",
          "height": 661
        },
        "outputId": "ebf0cca4-b090-4db7-e547-93fce30c4d76"
      },
      "cell_type": "code",
      "source": [
        "######################################################################\n",
        "# Setup python environment and change the current working directory\n",
        "######################################################################\n",
        "!pip install torch torchvision\n",
        "!pip install Pillow==4.0.0\n",
        "%mkdir -p /content/cs6360/a2/\n",
        "%cd /content/cs6360/a2"
      ],
      "execution_count": 1,
      "outputs": [
        {
          "output_type": "stream",
          "name": "stdout",
          "text": [
            "Requirement already satisfied: torch in /usr/local/lib/python3.7/dist-packages (1.10.0+cu111)\n",
            "Requirement already satisfied: torchvision in /usr/local/lib/python3.7/dist-packages (0.11.1+cu111)\n",
            "Requirement already satisfied: typing-extensions in /usr/local/lib/python3.7/dist-packages (from torch) (3.10.0.2)\n",
            "Requirement already satisfied: numpy in /usr/local/lib/python3.7/dist-packages (from torchvision) (1.21.5)\n",
            "Requirement already satisfied: pillow!=8.3.0,>=5.3.0 in /usr/local/lib/python3.7/dist-packages (from torchvision) (7.1.2)\n",
            "Collecting Pillow==4.0.0\n",
            "  Downloading Pillow-4.0.0.tar.gz (11.1 MB)\n",
            "\u001b[K     |████████████████████████████████| 11.1 MB 4.6 MB/s \n",
            "\u001b[?25hCollecting olefile\n",
            "  Downloading olefile-0.46.zip (112 kB)\n",
            "\u001b[K     |████████████████████████████████| 112 kB 8.2 MB/s \n",
            "\u001b[?25hBuilding wheels for collected packages: Pillow, olefile\n",
            "  Building wheel for Pillow (setup.py) ... \u001b[?25l\u001b[?25hdone\n",
            "  Created wheel for Pillow: filename=Pillow-4.0.0-cp37-cp37m-linux_x86_64.whl size=1007484 sha256=f152d8adc1c5041e7e2e84930a29189693fbbc4c7c06ccda1c8b574700609310\n",
            "  Stored in directory: /root/.cache/pip/wheels/ec/1e/24/dbc5e4964ea99cad93230a9013d934fb5adc322c3102f69e45\n",
            "  Building wheel for olefile (setup.py) ... \u001b[?25l\u001b[?25hdone\n",
            "  Created wheel for olefile: filename=olefile-0.46-py2.py3-none-any.whl size=35432 sha256=459aa0f67104cb46a3c520ce01028d2cfdb6211e3b70744acce48260d3246051\n",
            "  Stored in directory: /root/.cache/pip/wheels/84/53/e6/37d90ccb3ad1a3ca98d2b17107e9fda401a7c541ea1eb6a65a\n",
            "Successfully built Pillow olefile\n",
            "Installing collected packages: olefile, Pillow\n",
            "  Attempting uninstall: Pillow\n",
            "    Found existing installation: Pillow 7.1.2\n",
            "    Uninstalling Pillow-7.1.2:\n",
            "      Successfully uninstalled Pillow-7.1.2\n",
            "\u001b[31mERROR: pip's dependency resolver does not currently take into account all the packages that are installed. This behaviour is the source of the following dependency conflicts.\n",
            "torchvision 0.11.1+cu111 requires pillow!=8.3.0,>=5.3.0, but you have pillow 4.0.0 which is incompatible.\n",
            "scikit-image 0.18.3 requires pillow!=7.1.0,!=7.1.1,>=4.3.0, but you have pillow 4.0.0 which is incompatible.\n",
            "bokeh 2.3.3 requires pillow>=7.1.0, but you have pillow 4.0.0 which is incompatible.\n",
            "albumentations 0.1.12 requires imgaug<0.2.7,>=0.2.5, but you have imgaug 0.2.9 which is incompatible.\u001b[0m\n",
            "Successfully installed Pillow-4.0.0 olefile-0.46\n"
          ]
        },
        {
          "output_type": "display_data",
          "data": {
            "application/vnd.colab-display-data+json": {
              "pip_warning": {
                "packages": [
                  "PIL"
                ]
              }
            }
          },
          "metadata": {}
        },
        {
          "output_type": "stream",
          "name": "stdout",
          "text": [
            "/content/cs6360/a2\n"
          ]
        }
      ]
    },
    {
      "metadata": {
        "id": "wa5-onJhoSeM"
      },
      "cell_type": "code",
      "source": [
        "# adapted from \n",
        "# https://github.com/fchollet/keras/blob/master/keras/datasets/cifar10.py\n",
        "\n",
        "import os\n",
        "from six.moves.urllib.request import urlretrieve\n",
        "import tarfile\n",
        "import numpy as np\n",
        "import pickle\n",
        "import sys\n",
        "\n",
        "def get_file(fname,\n",
        "             origin,\n",
        "             untar=False,\n",
        "             extract=False,\n",
        "             archive_format='auto',\n",
        "             cache_dir='data'):\n",
        "    datadir = os.path.join(cache_dir)\n",
        "    if not os.path.exists(datadir):\n",
        "        os.makedirs(datadir)\n",
        "\n",
        "    if untar:\n",
        "        untar_fpath = os.path.join(datadir, fname)\n",
        "        fpath = untar_fpath + '.tar.gz'\n",
        "    else:\n",
        "        fpath = os.path.join(datadir, fname)\n",
        "    \n",
        "    print(fpath)\n",
        "    if not os.path.exists(fpath):\n",
        "        print('Downloading data from', origin)\n",
        "\n",
        "        error_msg = 'URL fetch failure on {}: {} -- {}'\n",
        "        try:\n",
        "            try:\n",
        "                urlretrieve(origin, fpath)\n",
        "            except URLError as e:\n",
        "                raise Exception(error_msg.format(origin, e.errno, e.reason))\n",
        "            except HTTPError as e:\n",
        "                raise Exception(error_msg.format(origin, e.code, e.msg))\n",
        "        except (Exception, KeyboardInterrupt) as e:\n",
        "            if os.path.exists(fpath):\n",
        "                os.remove(fpath)\n",
        "            raise\n",
        "\n",
        "    if untar:\n",
        "        if not os.path.exists(untar_fpath):\n",
        "            print('Extracting file.')\n",
        "            with tarfile.open(fpath) as archive:\n",
        "                archive.extractall(datadir)\n",
        "        return untar_fpath\n",
        "\n",
        "    if extract:\n",
        "        _extract_archive(fpath, datadir, archive_format)\n",
        "\n",
        "    return fpath\n",
        "\n",
        "\n",
        "\n",
        "def load_batch(fpath, label_key='labels'):\n",
        "    \"\"\"Internal utility for parsing CIFAR data.\n",
        "    # Arguments\n",
        "        fpath: path the file to parse.\n",
        "        label_key: key for label data in the retrieve\n",
        "            dictionary.\n",
        "    # Returns\n",
        "        A tuple `(data, labels)`.\n",
        "    \"\"\"\n",
        "    f = open(fpath, 'rb')\n",
        "    if sys.version_info < (3,):\n",
        "        d = pickle.load(f)\n",
        "    else:\n",
        "        d = pickle.load(f, encoding='bytes')\n",
        "        # decode utf8\n",
        "        d_decoded = {}\n",
        "        for k, v in d.items():\n",
        "            d_decoded[k.decode('utf8')] = v\n",
        "        d = d_decoded\n",
        "    f.close()\n",
        "    data = d['data']\n",
        "    labels = d[label_key]\n",
        "\n",
        "    data = data.reshape(data.shape[0], 3, 32, 32)\n",
        "    return data, labels\n",
        "\n",
        "def load_cifar10(transpose=False):\n",
        "    \"\"\"Loads CIFAR10 dataset.\n",
        "    # Returns\n",
        "        Tuple of Numpy arrays: `(x_train, y_train), (x_test, y_test)`.\n",
        "    \"\"\"\n",
        "    dirname = 'cifar-10-batches-py'\n",
        "    origin = 'http://www.cs.toronto.edu/~kriz/cifar-10-python.tar.gz'\n",
        "    path = get_file(dirname, origin=origin, untar=True)\n",
        "\n",
        "    num_train_samples = 50000\n",
        "\n",
        "    x_train = np.zeros((num_train_samples, 3, 32, 32), dtype='uint8')\n",
        "    y_train = np.zeros((num_train_samples,), dtype='uint8')\n",
        "\n",
        "    for i in range(1, 6):\n",
        "        fpath = os.path.join(path, 'data_batch_' + str(i))\n",
        "        data, labels = load_batch(fpath)\n",
        "        x_train[(i - 1) * 10000: i * 10000, :, :, :] = data\n",
        "        y_train[(i - 1) * 10000: i * 10000] = labels\n",
        "\n",
        "    fpath = os.path.join(path, 'test_batch')\n",
        "    x_test, y_test = load_batch(fpath)\n",
        "\n",
        "    y_train = np.reshape(y_train, (len(y_train), 1))\n",
        "    y_test = np.reshape(y_test, (len(y_test), 1))\n",
        "\n",
        "    if transpose:\n",
        "        x_train = x_train.transpose(0, 2, 3, 1)\n",
        "        x_test = x_test.transpose(0, 2, 3, 1)\n",
        "    return (x_train, y_train), (x_test, y_test)\n"
      ],
      "execution_count": 2,
      "outputs": []
    },
    {
      "metadata": {
        "id": "2jIKvJNtoVgU"
      },
      "cell_type": "markdown",
      "source": [
        "## Download files\n",
        "\n",
        "This may take 1 or 2 mins for the first time."
      ]
    },
    {
      "metadata": {
        "id": "l7fti3cryStt",
        "colab": {
          "base_uri": "https://localhost:8080/"
        },
        "outputId": "9b36d9e8-97a5-4507-d52b-38fd7b96104b"
      },
      "cell_type": "code",
      "source": [
        "######################################################################\n",
        "# Download CIFAR datasets and other related files\n",
        "######################################################################\n",
        "colours_fpath = get_file(fname='colours', \n",
        "                         origin='http://www.cs.toronto.edu/~jba/kmeans_colour_a2.tar.gz', \n",
        "                         untar=True)\n",
        "m = load_cifar10()"
      ],
      "execution_count": 3,
      "outputs": [
        {
          "output_type": "stream",
          "name": "stdout",
          "text": [
            "data/colours.tar.gz\n",
            "Downloading data from http://www.cs.toronto.edu/~jba/kmeans_colour_a2.tar.gz\n",
            "Extracting file.\n",
            "data/cifar-10-batches-py.tar.gz\n",
            "Downloading data from http://www.cs.toronto.edu/~kriz/cifar-10-python.tar.gz\n",
            "Extracting file.\n"
          ]
        }
      ]
    },
    {
      "metadata": {
        "id": "bXNsLNkOn38w"
      },
      "cell_type": "markdown",
      "source": [
        "# Code for training and CNN models"
      ]
    },
    {
      "metadata": {
        "id": "oWyZwl9VKkxD"
      },
      "cell_type": "markdown",
      "source": [
        "## Data preprocessing"
      ]
    },
    {
      "metadata": {
        "id": "bTF1TQObE6DG"
      },
      "cell_type": "code",
      "source": [
        "\"\"\"\n",
        "Colourization of CIFAR-10 Horses via classification.\n",
        "\"\"\"\n",
        "from __future__ import print_function\n",
        "import argparse\n",
        "import math\n",
        "import numpy as np\n",
        "import numpy.random as npr\n",
        "import scipy.misc\n",
        "import time\n",
        "import torch \n",
        "import torch.nn as nn\n",
        "import torch.nn.functional as F\n",
        "from torch.autograd import Variable\n",
        "import matplotlib\n",
        "import matplotlib.pyplot as plt \n",
        "\n",
        "\n",
        "#from load_data import load_cifar10\n",
        "\n",
        "HORSE_CATEGORY = 7\n",
        "\n",
        "######################################################################\n",
        "# Data related code\n",
        "######################################################################\n",
        "def get_rgb_cat(xs, colours):\n",
        "    \"\"\"\n",
        "    Get colour categories given RGB values. This function doesn't\n",
        "    actually do the work, instead it splits the work into smaller\n",
        "    chunks that can fit into memory, and calls helper function\n",
        "    _get_rgb_cat\n",
        "\n",
        "    Args:\n",
        "      xs: float numpy array of RGB images in [B, C, H, W] format\n",
        "      colours: numpy array of colour categories and their RGB values\n",
        "    Returns:\n",
        "      result: int numpy array of shape [B, 1, H, W]\n",
        "    \"\"\"\n",
        "    if np.shape(xs)[0] < 100:\n",
        "        return _get_rgb_cat(xs)\n",
        "    batch_size = 100\n",
        "    nexts = []\n",
        "    for i in range(0, np.shape(xs)[0], batch_size):\n",
        "        next = _get_rgb_cat(xs[i:i+batch_size,:,:,:], colours)\n",
        "        nexts.append(next)\n",
        "    result = np.concatenate(nexts, axis=0)\n",
        "    return result\n",
        "\n",
        "def _get_rgb_cat(xs, colours):\n",
        "    \"\"\"\n",
        "    Get colour categories given RGB values. This is done by choosing\n",
        "    the colour in `colours` that is the closest (in RGB space) to\n",
        "    each point in the image `xs`. This function is a little memory\n",
        "    intensive, and so the size of `xs` should not be too large.\n",
        "\n",
        "    Args:\n",
        "      xs: float numpy array of RGB images in [B, C, H, W] format\n",
        "      colours: numpy array of colour categories and their RGB values\n",
        "    Returns:\n",
        "      result: int numpy array of shape [B, 1, H, W]\n",
        "    \"\"\"\n",
        "    num_colours = np.shape(colours)[0]\n",
        "    xs = np.expand_dims(xs, 0)\n",
        "    cs = np.reshape(colours, [num_colours,1,3,1,1])\n",
        "    dists = np.linalg.norm(xs-cs, axis=2) # 2 = colour axis\n",
        "    cat = np.argmin(dists, axis=0)\n",
        "    cat = np.expand_dims(cat, axis=1)\n",
        "    return cat\n",
        "\n",
        "def get_cat_rgb(cats, colours):\n",
        "    \"\"\"\n",
        "    Get RGB colours given the colour categories\n",
        "\n",
        "    Args:\n",
        "      cats: integer numpy array of colour categories\n",
        "      colours: numpy array of colour categories and their RGB values\n",
        "    Returns:\n",
        "      numpy tensor of RGB colours\n",
        "    \"\"\"\n",
        "    return colours[cats]\n",
        "\n",
        "def process(xs, ys, max_pixel=256.0, downsize_input=False):\n",
        "    \"\"\"\n",
        "    Pre-process CIFAR10 images by taking only the horse category,\n",
        "    shuffling, and have colour values be bound between 0 and 1\n",
        "\n",
        "    Args:\n",
        "      xs: the colour RGB pixel values\n",
        "      ys: the category labels\n",
        "      max_pixel: maximum pixel value in the original data\n",
        "    Returns:\n",
        "      xs: value normalized and shuffled colour images\n",
        "      grey: greyscale images, also normalized so values are between 0 and 1\n",
        "    \"\"\"\n",
        "    xs = xs / max_pixel\n",
        "    xs = xs[np.where(ys == HORSE_CATEGORY)[0], :, :, :]\n",
        "    npr.shuffle(xs)\n",
        "    grey = np.mean(xs, axis=1, keepdims=True)\n",
        "    if downsize_input:\n",
        "      avg_pool = nn.Sequential(nn.AvgPool2d(2),nn.AvgPool2d(2), \n",
        "                               nn.Upsample(scale_factor=2, mode='bilinear'), nn.Upsample(scale_factor=2, mode='bilinear'))\n",
        "      grey_downsized = avg_pool.forward(torch.from_numpy(grey).float())\n",
        "      grey = grey_downsized.data.numpy()\n",
        "    return (xs, grey)\n",
        "\n",
        "\n",
        "def get_batch(x, y, batch_size):\n",
        "    '''\n",
        "    Generated that yields batches of data\n",
        "\n",
        "    Args:\n",
        "      x: input values\n",
        "      y: output values\n",
        "      batch_size: size of each batch\n",
        "    Yields:\n",
        "      batch_x: a batch of inputs of size at most batch_size\n",
        "      batch_y: a batch of outputs of size at most batch_size\n",
        "    '''\n",
        "    N = np.shape(x)[0]\n",
        "    assert N == np.shape(y)[0]\n",
        "    for i in range(0, N, batch_size):\n",
        "        batch_x = x[i:i+batch_size, :,:,:]\n",
        "        batch_y = y[i:i+batch_size, :,:,:]\n",
        "        yield (batch_x, batch_y)\n",
        "\n",
        "######################################################################\n",
        "# Torch Helper\n",
        "######################################################################\n",
        "\n",
        "def get_torch_vars(xs, ys, gpu=False):\n",
        "    \"\"\"\n",
        "    Helper function to convert numpy arrays to pytorch tensors.\n",
        "    If GPU is used, move the tensors to GPU.\n",
        "\n",
        "    Args:\n",
        "      xs (float numpy tenosor): greyscale input\n",
        "      ys (int numpy tenosor): categorical labels \n",
        "      gpu (bool): whether to move pytorch tensor to GPU\n",
        "    Returns:\n",
        "      Variable(xs), Variable(ys)\n",
        "    \"\"\"\n",
        "    xs = torch.from_numpy(xs).float()\n",
        "    ys = torch.from_numpy(ys).float()\n",
        "    if gpu:\n",
        "        xs = xs.cuda()\n",
        "        ys = ys.cuda()\n",
        "    return Variable(xs), Variable(ys)\n",
        "\n",
        "def compute_loss(criterion, outputs, labels, batch_size, num_colours):\n",
        "    \"\"\"\n",
        "    Helper function to compute the loss. Since this is a pixelwise\n",
        "    prediction task we need to reshape the output and ground truth\n",
        "    tensors into a 2D tensor before passing it in to the loss criteron.\n",
        "\n",
        "    Args:\n",
        "      criterion: pytorch loss criterion\n",
        "      outputs (pytorch tensor): predicted labels from the model\n",
        "      labels (pytorch tensor): ground truth labels\n",
        "      batch_size (int): batch size used for training\n",
        "      num_colours (int): number of colour categories\n",
        "    Returns:\n",
        "      pytorch tensor for loss\n",
        "    \"\"\"\n",
        "\n",
        "    loss_out = outputs.transpose(1,3) \\\n",
        "                      .contiguous() \\\n",
        "                      .view([batch_size*32*32, num_colours])\n",
        "    loss_lab = labels.transpose(1,3) \\\n",
        "                      .contiguous() \\\n",
        "                      .view([batch_size*32*32])\n",
        "    return criterion(loss_out, loss_lab)\n",
        "\n",
        "def run_validation_step(cnn, criterion, test_grey, test_rgb_cat, batch_size,\n",
        "                        colours, plotpath=None, visualize=True):\n",
        "    correct = 0.0\n",
        "    total = 0.0\n",
        "    losses = []\n",
        "    num_colours = np.shape(colours)[0]\n",
        "    for i, (xs, ys) in enumerate(get_batch(test_grey,\n",
        "                                           test_rgb_cat,\n",
        "                                           batch_size)):\n",
        "        images, labels = get_torch_vars(xs, ys, args.gpu)\n",
        "        outputs = cnn(images)\n",
        "\n",
        "        val_loss = compute_loss(criterion,\n",
        "                                outputs,\n",
        "                                labels,\n",
        "                                batch_size=args.batch_size,\n",
        "                                num_colours=num_colours)\n",
        "        losses.append(val_loss.data.item())\n",
        "\n",
        "        _, predicted = torch.max(outputs.data, 1, keepdim=True)\n",
        "        total += labels.size(0) * 32 * 32\n",
        "        correct += (predicted == labels.data).sum()\n",
        "\n",
        "    if plotpath: # only plot if a path is provided\n",
        "        plot(xs, ys, predicted.cpu().numpy(), colours, \n",
        "             plotpath, visualize=visualize)\n",
        "\n",
        "    val_loss = np.mean(losses)\n",
        "    val_acc = 100 * correct / total\n",
        "    return val_loss, val_acc\n"
      ],
      "execution_count": 4,
      "outputs": []
    },
    {
      "metadata": {
        "id": "rp_wCpMjqt5w"
      },
      "cell_type": "markdown",
      "source": [
        "## Visualization"
      ]
    },
    {
      "metadata": {
        "id": "syg8NjwMqw_F"
      },
      "cell_type": "code",
      "source": [
        "def plot(input, gtlabel, output, colours, path, visualize):\n",
        "    \"\"\"\n",
        "    Generate png plots of input, ground truth, and outputs\n",
        "\n",
        "    Args:\n",
        "      input: the greyscale input to the colourization CNN\n",
        "      gtlabel: the grouth truth categories for each pixel\n",
        "      output: the predicted categories for each pixel\n",
        "      colours: numpy array of colour categories and their RGB values\n",
        "      path: output path\n",
        "    \"\"\"\n",
        "    k = 10\n",
        "    grey = np.transpose(input[:k,:,:,:], [0,2,3,1])\n",
        "    if colours is None:\n",
        "      gtcolor = np.transpose(gtlabel[:k,:,:,:], [0,2,3,1])\n",
        "      predcolor = np.transpose(output[:k,:,:,:], [0,2,3,1])\n",
        "    else:\n",
        "      gtcolor = get_cat_rgb(gtlabel[:k,0,:,:], colours)\n",
        "      predcolor = get_cat_rgb(output[:k,0,:,:], colours)\n",
        "\n",
        "    img = np.vstack([\n",
        "      np.hstack(np.tile(grey, [1,1,1,3])),\n",
        "      np.hstack(gtcolor),\n",
        "      np.hstack(predcolor)])\n",
        "    #plt.figure()\n",
        "    plt.grid('off')\n",
        "    plt.imshow(img, vmin=0., vmax=1.)\n",
        "    if visualize:\n",
        "      plt.show()\n",
        "    else:\n",
        "      plt.savefig(path)"
      ],
      "execution_count": 5,
      "outputs": []
    },
    {
      "metadata": {
        "id": "xIa_fiZYnRy7"
      },
      "cell_type": "markdown",
      "source": [
        "## Training"
      ]
    },
    {
      "metadata": {
        "id": "LtAdbbzHnP-n"
      },
      "cell_type": "code",
      "source": [
        "class AttrDict(dict):\n",
        "    def __init__(self, *args, **kwargs):\n",
        "        super(AttrDict, self).__init__(*args, **kwargs)\n",
        "        self.__dict__ = self\n",
        "\n",
        "def train(args, cnn=None):\n",
        "    # Set the maximum number of threads to prevent crash in Teaching Labs\n",
        "    torch.set_num_threads(5)\n",
        "    # Numpy random seed\n",
        "    npr.seed(args.seed)\n",
        "    \n",
        "    # Save directory\n",
        "    save_dir = \"outputs/\" + args.experiment_name\n",
        "\n",
        "    # LOAD THE MODEL\n",
        "    if cnn is None:\n",
        "      cnn = RegressionCNN(args.kernel, args.num_filters)\n",
        "\n",
        "    # Set up L2 loss\n",
        "    criterion = nn.MSELoss()\n",
        "    optimizer = torch.optim.Adam(cnn.parameters(), lr=args.learn_rate)\n",
        "    \n",
        "\n",
        "    # Loading & transforming data\n",
        "    print(\"Loading data...\")    \n",
        "    (x_train, y_train), (x_test, y_test) = load_cifar10()\n",
        "    train_rgb, train_grey = process(x_train, y_train)\n",
        "    test_rgb, test_grey = process(x_test, y_test)\n",
        "\n",
        "\n",
        "    # Create the outputs folder if not created already\n",
        "    if not os.path.exists(save_dir):\n",
        "        os.makedirs(save_dir)\n",
        "\n",
        "    print(\"Beginning training ...\")\n",
        "    if args.gpu: cnn.cuda()\n",
        "    start = time.time()\n",
        "\n",
        "\n",
        "    for epoch in range(args.epochs):\n",
        "        # Train the Model\n",
        "        cnn.train() # Change model to 'train' mode\n",
        "        for i, (xs, ys) in enumerate(get_batch(train_grey,\n",
        "                                               train_rgb,\n",
        "                                               args.batch_size)):\n",
        "            images, labels = get_torch_vars(xs, ys, args.gpu)\n",
        "            # Forward + Backward + Optimize\n",
        "            optimizer.zero_grad()\n",
        "            outputs = cnn(images)\n",
        "\n",
        "            loss = criterion(outputs, labels)\n",
        "            loss.backward()\n",
        "            optimizer.step()\n",
        "            \n",
        "        print('Epoch [%d/%d], Loss: %.4f' % (epoch+1, args.epochs, loss.data.item()))\n",
        "\n",
        "        # Evaluate the model\n",
        "        cnn.eval()  # Change model to 'eval' mode (BN uses moving mean/var).\n",
        "        losses = []\n",
        "        for i, (xs, ys) in enumerate(get_batch(test_grey,\n",
        "                                               test_rgb,\n",
        "                                               args.batch_size)):\n",
        "            images, labels = get_torch_vars(xs, ys, args.gpu)\n",
        "            outputs = cnn(images)\n",
        "\n",
        "            val_loss = criterion(outputs, labels)\n",
        "            losses.append(val_loss.data.item())\n",
        "\n",
        "        val_loss = np.mean(losses)\n",
        "        print('Epoch [%d/%d], Val Loss: %.4f' % (epoch+1, args.epochs, val_loss))\n",
        "        \n",
        "\n",
        "\n",
        "    print(\"Generating predictions...\")\n",
        "    plot(xs, ys, outputs.cpu().data, colours=None, \n",
        "             path=save_dir+\"/regression_output.png\", visualize=args.visualize)\n",
        "#     grey = test_grey[:15]\n",
        "#     gtrgb = test_rgb[:15]\n",
        "#     grey, gtrgb = get_torch_vars(test_grey[:15], test_rgb[:15], args.gpu)\n",
        "#     predrgb = cnn(grey)\n",
        "#     plot(grey.cpu().data, gtrgb.cpu().data, predrgb.cpu().data, colours=None, \n",
        "#          path=save_dir+\"/regression_output.png\", visualize=args.visualize)\n",
        "\n",
        "    if args.checkpoint:\n",
        "        print('Saving model...')\n",
        "        torch.save(cnn.state_dict(), args.checkpoint)\n",
        "    \n",
        "    return cnn"
      ],
      "execution_count": 6,
      "outputs": []
    },
    {
      "metadata": {
        "id": "LAqGXV0iK1G9"
      },
      "cell_type": "markdown",
      "source": [
        "## Regression network"
      ]
    },
    {
      "metadata": {
        "id": "XOG_sFloK9gs"
      },
      "cell_type": "code",
      "source": [
        "class MyConv2d(nn.Module):\n",
        "    \"\"\"\n",
        "    Our simplified implemented of nn.Conv2d module for 2D convolution\n",
        "    \"\"\"\n",
        "    def __init__(self, in_channels, out_channels, kernel_size, padding=None):\n",
        "        super(MyConv2d, self).__init__()\n",
        "\n",
        "        self.in_channels = in_channels\n",
        "        self.out_channels = out_channels\n",
        "        self.kernel_size = kernel_size\n",
        "        if padding is None:\n",
        "            self.padding = kernel_size // 2\n",
        "        else:\n",
        "            self.padding = padding\n",
        "        self.weight = nn.parameter.Parameter(torch.Tensor(\n",
        "            out_channels, in_channels, kernel_size, kernel_size))\n",
        "        self.bias = nn.parameter.Parameter(torch.Tensor(out_channels))\n",
        "        self.reset_parameters()\n",
        "\n",
        "    def reset_parameters(self):\n",
        "        n = self.in_channels * self.kernel_size * self.kernel_size\n",
        "        stdv = 1. / math.sqrt(n)\n",
        "        self.weight.data.uniform_(-stdv, stdv)\n",
        "        self.bias.data.uniform_(-stdv, stdv)\n",
        "\n",
        "    def forward(self, input):\n",
        "        return F.conv2d(input, self.weight, self.bias, padding=self.padding)\n",
        "\n",
        "\n",
        "class RegressionCNN(nn.Module):\n",
        "    def __init__(self, kernel, num_filters):\n",
        "        # first call parent's initialization function\n",
        "        super(RegressionCNN, self).__init__()\n",
        "        padding = kernel // 2\n",
        "\n",
        "        self.downconv1 = nn.Sequential(\n",
        "            nn.Conv2d(1, num_filters, kernel_size=kernel, padding=padding),\n",
        "            nn.BatchNorm2d(num_filters),\n",
        "            nn.ReLU(),\n",
        "            nn.MaxPool2d(2),)\n",
        "        self.downconv2 = nn.Sequential(\n",
        "            nn.Conv2d(num_filters, num_filters*2, kernel_size=kernel, padding=padding),\n",
        "            nn.BatchNorm2d(num_filters*2),\n",
        "            nn.ReLU(),\n",
        "            nn.MaxPool2d(2),)\n",
        "\n",
        "        self.rfconv = nn.Sequential(\n",
        "            nn.Conv2d(num_filters*2, num_filters*2, kernel_size=kernel, padding=padding),\n",
        "            nn.BatchNorm2d(num_filters*2),\n",
        "            nn.ReLU())\n",
        "\n",
        "        self.upconv1 = nn.Sequential(\n",
        "            nn.Conv2d(num_filters*2, num_filters, kernel_size=kernel, padding=padding),\n",
        "            nn.BatchNorm2d(num_filters),\n",
        "            nn.ReLU(),\n",
        "            nn.Upsample(scale_factor=2),)\n",
        "        self.upconv2 = nn.Sequential(\n",
        "            nn.Conv2d(num_filters, 3, kernel_size=kernel, padding=padding),\n",
        "            nn.BatchNorm2d(3),\n",
        "            nn.ReLU(),\n",
        "            nn.Upsample(scale_factor=2),)\n",
        "        self.finalconv = MyConv2d(3, 3, kernel_size=kernel)\n",
        "\n",
        "    def forward(self, x):\n",
        "        out = self.downconv1(x)\n",
        "        out = self.downconv2(out)\n",
        "        out = self.rfconv(out)\n",
        "        out = self.upconv1(out)\n",
        "        out = self.upconv2(out)\n",
        "        out = self.finalconv(out)\n",
        "        return out"
      ],
      "execution_count": 7,
      "outputs": []
    },
    {
      "metadata": {
        "id": "jCogvi3_nlfY"
      },
      "cell_type": "markdown",
      "source": [
        "# CIFAR-10 colour regression"
      ]
    },
    {
      "metadata": {
        "id": "CTZWiuxMjQTB"
      },
      "cell_type": "markdown",
      "source": [
        "## Main training loop for regression CNN"
      ]
    },
    {
      "metadata": {
        "id": "fZHc_eStGAQz",
        "colab": {
          "base_uri": "https://localhost:8080/",
          "height": 1000
        },
        "outputId": "ea432480-a548-4e5b-c4e5-25424f418e14"
      },
      "cell_type": "code",
      "source": [
        "args = AttrDict()\n",
        "args_dict = {\n",
        "              'gpu':True, \n",
        "              'valid':False, \n",
        "              'checkpoint':\"\", \n",
        "              'kernel':3,\n",
        "              'num_filters':32, \n",
        "              'learn_rate':0.001, \n",
        "              'batch_size':100, \n",
        "              'epochs':25, \n",
        "              'seed':0,\n",
        "              'plot':True, \n",
        "              'experiment_name': 'regression_cnn',\n",
        "              'visualize': False,\n",
        "              'downsize_input':False,\n",
        "}\n",
        "args.update(args_dict)\n",
        "cnn = train(args)"
      ],
      "execution_count": 8,
      "outputs": [
        {
          "output_type": "stream",
          "name": "stdout",
          "text": [
            "Loading data...\n",
            "data/cifar-10-batches-py.tar.gz\n",
            "Beginning training ...\n",
            "Epoch [1/25], Loss: 0.0203\n",
            "Epoch [1/25], Val Loss: 0.0216\n",
            "Epoch [2/25], Loss: 0.0165\n",
            "Epoch [2/25], Val Loss: 0.0168\n",
            "Epoch [3/25], Loss: 0.0149\n",
            "Epoch [3/25], Val Loss: 0.0151\n",
            "Epoch [4/25], Loss: 0.0138\n",
            "Epoch [4/25], Val Loss: 0.0138\n",
            "Epoch [5/25], Loss: 0.0131\n",
            "Epoch [5/25], Val Loss: 0.0130\n",
            "Epoch [6/25], Loss: 0.0125\n",
            "Epoch [6/25], Val Loss: 0.0123\n",
            "Epoch [7/25], Loss: 0.0120\n",
            "Epoch [7/25], Val Loss: 0.0118\n",
            "Epoch [8/25], Loss: 0.0116\n",
            "Epoch [8/25], Val Loss: 0.0114\n",
            "Epoch [9/25], Loss: 0.0113\n",
            "Epoch [9/25], Val Loss: 0.0110\n",
            "Epoch [10/25], Loss: 0.0110\n",
            "Epoch [10/25], Val Loss: 0.0107\n",
            "Epoch [11/25], Loss: 0.0107\n",
            "Epoch [11/25], Val Loss: 0.0104\n",
            "Epoch [12/25], Loss: 0.0104\n",
            "Epoch [12/25], Val Loss: 0.0102\n",
            "Epoch [13/25], Loss: 0.0102\n",
            "Epoch [13/25], Val Loss: 0.0099\n",
            "Epoch [14/25], Loss: 0.0099\n",
            "Epoch [14/25], Val Loss: 0.0097\n",
            "Epoch [15/25], Loss: 0.0097\n",
            "Epoch [15/25], Val Loss: 0.0095\n",
            "Epoch [16/25], Loss: 0.0095\n",
            "Epoch [16/25], Val Loss: 0.0093\n",
            "Epoch [17/25], Loss: 0.0094\n",
            "Epoch [17/25], Val Loss: 0.0091\n",
            "Epoch [18/25], Loss: 0.0092\n",
            "Epoch [18/25], Val Loss: 0.0090\n",
            "Epoch [19/25], Loss: 0.0091\n",
            "Epoch [19/25], Val Loss: 0.0088\n",
            "Epoch [20/25], Loss: 0.0090\n",
            "Epoch [20/25], Val Loss: 0.0087\n",
            "Epoch [21/25], Loss: 0.0089\n",
            "Epoch [21/25], Val Loss: 0.0086\n",
            "Epoch [22/25], Loss: 0.0088\n",
            "Epoch [22/25], Val Loss: 0.0085\n",
            "Epoch [23/25], Loss: 0.0087\n",
            "Epoch [23/25], Val Loss: 0.0084\n",
            "Epoch [24/25], Loss: 0.0086\n",
            "Epoch [24/25], Val Loss: 0.0083\n"
          ]
        },
        {
          "output_type": "stream",
          "name": "stderr",
          "text": [
            "Clipping input data to the valid range for imshow with RGB data ([0..1] for floats or [0..255] for integers).\n"
          ]
        },
        {
          "output_type": "stream",
          "name": "stdout",
          "text": [
            "Epoch [25/25], Loss: 0.0085\n",
            "Epoch [25/25], Val Loss: 0.0082\n",
            "Generating predictions...\n"
          ]
        },
        {
          "output_type": "display_data",
          "data": {
            "text/plain": [
              "<Figure size 432x288 with 1 Axes>"
            ],
            "image/png": "[encoded data removed]"
          },
          "metadata": {
            "needs_background": "light"
          }
        }
      ]
    },
    {
      "metadata": {
        "id": "enh16xBAomSI"
      },
      "cell_type": "code",
      "source": [
        ""
      ],
      "execution_count": null,
      "outputs": []
    }
  ]
}